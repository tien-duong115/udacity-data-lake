{
 "cells": [
  {
   "cell_type": "code",
   "execution_count": 25,
   "metadata": {
    "editable": true
   },
   "outputs": [],
   "source": [
    "import configparser\n",
    "from datetime import datetime\n",
    "import os\n",
    "from pyspark.sql import SparkSession\n",
    "from pyspark.sql.functions import udf, col\n",
    "from pyspark.sql.functions import year, month, dayofmonth, hour, weekofyear, date_format, udf, col, to_timestamp, monotonically_increasing_id, abs\n",
    "from pyspark.sql.types import TimestampType as Stamp\n",
    "import pyspark.sql.functions as F"
   ]
  },
  {
   "cell_type": "code",
   "execution_count": 8,
   "metadata": {
    "editable": true
   },
   "outputs": [],
   "source": [
    "\n",
    "config = configparser.ConfigParser()\n",
    "config.read('dl.cfg')\n",
    "\n",
    "os.environ['AWS_ACCESS_KEY_ID']=config['AWS']['AWS_ACCESS_KEY_ID']\n",
    "os.environ['AWS_SECRET_ACCESS_KEY']=config['AWS']['AWS_SECRET_ACCESS_KEY']\n"
   ]
  },
  {
   "cell_type": "code",
   "execution_count": 9,
   "metadata": {
    "editable": true
   },
   "outputs": [],
   "source": [
    "spark = SparkSession \\\n",
    "    .builder \\\n",
    "    .config(\"spark.jars.packages\", \"org.apache.hadoop:hadoop-aws:2.7.0\") \\\n",
    "    .getOrCreate() "
   ]
  },
  {
   "cell_type": "code",
   "execution_count": 10,
   "metadata": {
    "editable": true
   },
   "outputs": [],
   "source": [
    "input_data = \"s3a://udacity-dend/\"\n",
    "output_data = \"s3a://tien-bucket/\""
   ]
  },
  {
   "cell_type": "code",
   "execution_count": 11,
   "metadata": {
    "editable": true
   },
   "outputs": [],
   "source": [
    "log_data = os.path.join(input_data,'log-data/*/*/*.json')"
   ]
  },
  {
   "cell_type": "code",
   "execution_count": 12,
   "metadata": {
    "editable": true
   },
   "outputs": [
    {
     "name": "stdout",
     "output_type": "stream",
     "text": [
      "root\n",
      " |-- artist: string (nullable = true)\n",
      " |-- auth: string (nullable = true)\n",
      " |-- firstName: string (nullable = true)\n",
      " |-- gender: string (nullable = true)\n",
      " |-- itemInSession: long (nullable = true)\n",
      " |-- lastName: string (nullable = true)\n",
      " |-- length: double (nullable = true)\n",
      " |-- level: string (nullable = true)\n",
      " |-- location: string (nullable = true)\n",
      " |-- method: string (nullable = true)\n",
      " |-- page: string (nullable = true)\n",
      " |-- registration: double (nullable = true)\n",
      " |-- sessionId: long (nullable = true)\n",
      " |-- song: string (nullable = true)\n",
      " |-- status: long (nullable = true)\n",
      " |-- ts: long (nullable = true)\n",
      " |-- userAgent: string (nullable = true)\n",
      " |-- userId: string (nullable = true)\n",
      "\n"
     ]
    }
   ],
   "source": [
    "df = spark.read.json(log_data)\n",
    "df.printSchema()"
   ]
  },
  {
   "cell_type": "code",
   "execution_count": 17,
   "metadata": {
    "editable": true
   },
   "outputs": [],
   "source": [
    "# create timestamp column from original timestamp column\n",
    "get_timestamp = udf(lambda x: datetime.fromtimestamp((x / 1000)), Stamp())\n",
    "df = df.withColumn(\"timestamp\", get_timestamp(col(\"ts\")))\n",
    "\n",
    "# create timestamp column from original timestamp column\n",
    "get_timestamp = udf(lambda x: datetime.fromtimestamp((x / 1000)), Stamp())\n",
    "dfs = df.withColumn(\"datetime\", get_timestamp(col(\"ts\")))\n",
    "\n",
    "time_table = dfs.select(\n",
    "                    F.col(\"timestamp\").alias(\"start_time\"),\n",
    "                    F.hour(\"timestamp\").alias('hour'),\n",
    "                    F.dayofmonth(\"timestamp\").alias('day'),\n",
    "                    F.weekofyear(\"timestamp\").alias('week'),\n",
    "                    F.month(\"timestamp\").alias('month'), \n",
    "                    F.year(\"timestamp\").alias('year'), \n",
    "                    F.date_format(F.col(\"timestamp\"), \"E\").alias(\"weekday\")\n",
    "                )"
   ]
  },
  {
   "cell_type": "code",
   "execution_count": 18,
   "metadata": {
    "editable": true
   },
   "outputs": [
    {
     "name": "stdout",
     "output_type": "stream",
     "text": [
      "root\n",
      " |-- artist: string (nullable = true)\n",
      " |-- auth: string (nullable = true)\n",
      " |-- firstName: string (nullable = true)\n",
      " |-- gender: string (nullable = true)\n",
      " |-- itemInSession: long (nullable = true)\n",
      " |-- lastName: string (nullable = true)\n",
      " |-- length: double (nullable = true)\n",
      " |-- level: string (nullable = true)\n",
      " |-- location: string (nullable = true)\n",
      " |-- method: string (nullable = true)\n",
      " |-- page: string (nullable = true)\n",
      " |-- registration: double (nullable = true)\n",
      " |-- sessionId: long (nullable = true)\n",
      " |-- song: string (nullable = true)\n",
      " |-- status: long (nullable = true)\n",
      " |-- ts: long (nullable = true)\n",
      " |-- userAgent: string (nullable = true)\n",
      " |-- userId: string (nullable = true)\n",
      " |-- timestamp: timestamp (nullable = true)\n",
      "\n"
     ]
    }
   ],
   "source": [
    "df.printSchema()"
   ]
  },
  {
   "cell_type": "code",
   "execution_count": 19,
   "metadata": {
    "editable": true
   },
   "outputs": [],
   "source": [
    "song_data =  os.path.join(input_data,'song_data/A/*/*/*.json')\n",
    "\n",
    "# read song data file\n",
    "song_df = spark.read.json(song_data)"
   ]
  },
  {
   "cell_type": "code",
   "execution_count": 22,
   "metadata": {
    "editable": true
   },
   "outputs": [],
   "source": [
    "song_df.createOrReplaceTempView(\"song_data\")\n",
    "dfs.createOrReplaceTempView(\"log_data\")\n",
    "\n",
    "songplays_table = spark.sql(\"\"\"\n",
    "                                SELECT monotonically_increasing_id() as songplay_id,\n",
    "                                log.timestamp as start_time,\n",
    "                                year(log.timestamp) as year,\n",
    "                                month(log.timestamp) as month,\n",
    "                                log.userId as user_id,\n",
    "                                log.level as level,\n",
    "                                song.song_id as song_id,\n",
    "                                song.artist_id as artist_id,\n",
    "                                log.sessionId as session_id,\n",
    "                                log.location as location,\n",
    "                                log.userAgent as user_agent\n",
    "                                FROM log_data log\n",
    "                                JOIN song_data song\n",
    "                                ON (log.song = song.title\n",
    "                                AND log.length = song.duration\n",
    "                                AND log.artist = song.artist_name)\n",
    "                                \"\"\")"
   ]
  },
  {
   "cell_type": "code",
   "execution_count": 24,
   "metadata": {
    "editable": true
   },
   "outputs": [
    {
     "name": "stdout",
     "output_type": "stream",
     "text": [
      "+-----------+--------------------+----+-----+-------+-----+------------------+------------------+----------+--------------------+--------------------+\n",
      "|songplay_id|          start_time|year|month|user_id|level|           song_id|         artist_id|session_id|            location|          user_agent|\n",
      "+-----------+--------------------+----+-----+-------+-----+------------------+------------------+----------+--------------------+--------------------+\n",
      "|          0|2018-11-21 21:56:...|2018|   11|     15| paid|SOZCTXZ12AB0182364|AR5KOSW1187FB35FF4|       818|Chicago-Napervill...|\"Mozilla/5.0 (X11...|\n",
      "|          1|2018-11-05 17:49:...|2018|   11|     73| paid|SOHDWWH12A6D4F7F6A|ARC0IOF1187FB3F6E6|       255|Tampa-St. Petersb...|\"Mozilla/5.0 (Mac...|\n",
      "|          2|2018-11-13 22:39:...|2018|   11|     55| free|SOXQYSC12A6310E908|AR0L04E1187B9AE90C|       415|Minneapolis-St. P...|\"Mozilla/5.0 (Mac...|\n",
      "|          3|2018-11-16 14:21:...|2018|   11|     85| paid|SOLRYQR12A670215BF|ARNLO5S1187B9B80CC|       436|       Red Bluff, CA|\"Mozilla/5.0 (Mac...|\n",
      "|          4|2018-11-20 17:46:...|2018|   11|     49| paid|SOCHRXB12A8AE48069|ARTDQRC1187FB4EFD4|       758|San Francisco-Oak...|Mozilla/5.0 (Wind...|\n",
      "|          5|2018-11-24 12:43:...|2018|   11|     73| paid|SONQBUB12A6D4F8ED0|ARFCUN31187B9AD578|       692|Tampa-St. Petersb...|\"Mozilla/5.0 (Mac...|\n",
      "|          6|2018-11-29 21:00:...|2018|   11|     80| paid|SOXQYSC12A6310E908|AR0L04E1187B9AE90C|      1065|Portland-South Po...|\"Mozilla/5.0 (Mac...|\n",
      "|          7|2018-11-27 18:09:...|2018|   11|     49| paid|SOCHRXB12A8AE48069|ARTDQRC1187FB4EFD4|       987|San Francisco-Oak...|Mozilla/5.0 (Wind...|\n",
      "|          8|2018-11-09 17:55:...|2018|   11|     80| paid|SOAOJYY12A58A7B2F9|ARFVYJI1187B9B8E13|       416|Portland-South Po...|\"Mozilla/5.0 (Mac...|\n",
      "|          9|2018-11-09 19:57:...|2018|   11|     36| paid|SODWXQV12A6310F10D|AR6892W1187B9AC71B|       392|Janesville-Beloit...|\"Mozilla/5.0 (Win...|\n",
      "|         10|2018-11-26 08:33:...|2018|   11|     44| paid|SOVWWJW12A670206BE|AR3ZL6A1187B995B37|       781|Waterloo-Cedar Fa...|Mozilla/5.0 (Maci...|\n",
      "|         11|2018-11-26 15:33:...|2018|   11|     72| paid|SODOLVO12B0B80B2F4|AR6XPWV1187B9ADAEB|       381|Detroit-Warren-De...|Mozilla/5.0 (Maci...|\n",
      "|         12|2018-11-26 18:25:...|2018|   11|     92| free|SONQBUB12A6D4F8ED0|ARFCUN31187B9AD578|       938|       Palestine, TX|Mozilla/5.0 (Maci...|\n",
      "|         13|2018-11-08 15:01:...|2018|   11|     29| paid|SOFVOQL12A6D4F7456|ARPN0Y61187B9ABAA0|       372|Atlanta-Sandy Spr...|\"Mozilla/5.0 (Mac...|\n",
      "|         14|2018-11-03 21:14:...|2018|   11|     49| free|SOFVOQL12A6D4F7456|ARPN0Y61187B9ABAA0|       195|San Francisco-Oak...|Mozilla/5.0 (Wind...|\n",
      "|         15|2018-11-11 15:00:...|2018|   11|     67| free|SOCHRXB12A8AE48069|ARTDQRC1187FB4EFD4|       414|Nashville-Davidso...|\"Mozilla/5.0 (Mac...|\n",
      "+-----------+--------------------+----+-----+-------+-----+------------------+------------------+----------+--------------------+--------------------+\n",
      "\n"
     ]
    }
   ],
   "source": [
    "songplays_table.show()"
   ]
  },
  {
   "cell_type": "code",
   "execution_count": null,
   "metadata": {
    "editable": true
   },
   "outputs": [],
   "source": []
  },
  {
   "cell_type": "code",
   "execution_count": null,
   "metadata": {
    "editable": true
   },
   "outputs": [],
   "source": []
  },
  {
   "cell_type": "code",
   "execution_count": null,
   "metadata": {
    "editable": true
   },
   "outputs": [],
   "source": [
    "songplay = dfs.join(song_df, (song_df.title == dfs.song) & (dfs.artist == song_df.artist_name))"
   ]
  },
  {
   "cell_type": "code",
   "execution_count": null,
   "metadata": {
    "editable": true
   },
   "outputs": [],
   "source": [
    "songplay.count()"
   ]
  },
  {
   "cell_type": "code",
   "execution_count": null,
   "metadata": {
    "editable": true
   },
   "outputs": [],
   "source": []
  },
  {
   "cell_type": "code",
   "execution_count": null,
   "metadata": {
    "editable": true
   },
   "outputs": [],
   "source": []
  },
  {
   "cell_type": "code",
   "execution_count": null,
   "metadata": {
    "editable": true
   },
   "outputs": [],
   "source": []
  },
  {
   "cell_type": "code",
   "execution_count": null,
   "metadata": {
    "editable": true
   },
   "outputs": [],
   "source": []
  },
  {
   "cell_type": "code",
   "execution_count": null,
   "metadata": {
    "editable": true
   },
   "outputs": [],
   "source": []
  },
  {
   "cell_type": "code",
   "execution_count": null,
   "metadata": {
    "editable": true
   },
   "outputs": [],
   "source": []
  },
  {
   "cell_type": "code",
   "execution_count": null,
   "metadata": {
    "editable": true
   },
   "outputs": [],
   "source": [
    "# songplay = songplay.select(\n",
    "#     \"song_id\", col(\"userId\").alias(\"user_id\"), \"level\",\"artist_id\", col(\"sessionId\").alias(\"session_id\"), \"location\", col(\"userAgent\"\n",
    "# ).alias(\"user_agent\"), \"year\", month(\"timestamp\").alias(\"month\"), \"ts\")"
   ]
  },
  {
   "cell_type": "code",
   "execution_count": null,
   "metadata": {
    "editable": true
   },
   "outputs": [],
   "source": [
    "# songplay = songplay.selectExpr(\"ts as start_time\")\n",
    "# songplay.select(monotonically_increasing_id().alias('songplay_id')).collect()"
   ]
  },
  {
   "cell_type": "code",
   "execution_count": null,
   "metadata": {
    "editable": true
   },
   "outputs": [],
   "source": [
    "# songplay.write.partitionBy('year', 'month').parquet(os.path.join(output_data, 'songplays.parquet'), 'overwrite')"
   ]
  },
  {
   "cell_type": "code",
   "execution_count": null,
   "metadata": {
    "editable": true
   },
   "outputs": [],
   "source": []
  },
  {
   "cell_type": "code",
   "execution_count": null,
   "metadata": {
    "editable": true
   },
   "outputs": [],
   "source": []
  }
 ],
 "metadata": {
  "kernelspec": {
   "display_name": "Python 3",
   "language": "python",
   "name": "python3"
  },
  "language_info": {
   "codemirror_mode": {
    "name": "ipython",
    "version": 3
   },
   "file_extension": ".py",
   "mimetype": "text/x-python",
   "name": "python",
   "nbconvert_exporter": "python",
   "pygments_lexer": "ipython3",
   "version": "3.6.3"
  }
 },
 "nbformat": 4,
 "nbformat_minor": 4
}
